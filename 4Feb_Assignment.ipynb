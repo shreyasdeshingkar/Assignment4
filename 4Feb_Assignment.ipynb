{
 "cells": [
  {
   "cell_type": "markdown",
   "id": "d98337a5-a139-45bc-8483-40ba6eb4eb34",
   "metadata": {},
   "source": [
    "Que 1)Ans=>"
   ]
  },
  {
   "cell_type": "code",
   "execution_count": 1,
   "id": "247d40ac-aece-4ea2-a590-385c84b7222a",
   "metadata": {},
   "outputs": [
    {
     "name": "stdout",
     "output_type": "stream",
     "text": [
      "[('Virat Kohli', 24936), ('Jack Kallis', 25534), ('Ricky Ponting', 27483), ('Sachin Tendulkar', 34357)]\n"
     ]
    }
   ],
   "source": [
    "player_scores = [('Sachin Tendulkar', 34357), ('Ricky Ponting', 27483), ('Jack Kallis', 25534), ('Virat Kohli', 24936)]\n",
    "\n",
    "\n",
    "sorted_players = sorted(player_scores, key=lambda x: x[1])\n",
    "\n",
    "\n",
    "print(sorted_players)\n"
   ]
  },
  {
   "cell_type": "markdown",
   "id": "a6d679da-573d-4168-bdea-221622b0d7dd",
   "metadata": {},
   "source": [
    "Que 2)Ans=>"
   ]
  },
  {
   "cell_type": "code",
   "execution_count": 2,
   "id": "ca470c81-f077-4629-a893-48cc8d8594e0",
   "metadata": {},
   "outputs": [
    {
     "name": "stdout",
     "output_type": "stream",
     "text": [
      "[1, 4, 9, 16, 25, 36, 49, 64, 81, 100]\n"
     ]
    }
   ],
   "source": [
    "numbers = [1, 2, 3, 4, 5, 6, 7, 8, 9, 10]\n",
    "\n",
    "\n",
    "squared_numbers = list(map(lambda x: x**2, numbers))\n",
    "\n",
    "print(squared_numbers)\n"
   ]
  },
  {
   "cell_type": "markdown",
   "id": "ccff4608-4f42-4080-955d-96542e253a59",
   "metadata": {},
   "source": [
    "Que 3)Ans=>"
   ]
  },
  {
   "cell_type": "code",
   "execution_count": 3,
   "id": "9b2984a6-843e-4bc1-b1f0-ea958f8611ad",
   "metadata": {},
   "outputs": [
    {
     "name": "stdout",
     "output_type": "stream",
     "text": [
      "('1', '2', '3', '4', '5', '6', '7', '8', '9', '10')\n"
     ]
    }
   ],
   "source": [
    "numbers = [1, 2, 3, 4, 5, 6, 7, 8, 9, 10]\n",
    "\n",
    "\n",
    "strings = tuple(map(lambda x: str(x), numbers))\n",
    "\n",
    "\n",
    "print(strings)\n"
   ]
  },
  {
   "cell_type": "markdown",
   "id": "31782721-c763-4964-8f6e-d85583f90e0d",
   "metadata": {},
   "source": [
    "Que 4)Ans=>"
   ]
  },
  {
   "cell_type": "code",
   "execution_count": 5,
   "id": "26894801-ee03-4e22-8400-8f895aeb564b",
   "metadata": {},
   "outputs": [
    {
     "name": "stdout",
     "output_type": "stream",
     "text": [
      "15511210043330985984000000\n"
     ]
    }
   ],
   "source": [
    "from functools import reduce\n",
    "\n",
    "numbers = range(1, 26)\n",
    "\n",
    "\n",
    "product = reduce(lambda x, y: x * y, numbers)\n",
    "\n",
    "\n",
    "print(product)\n"
   ]
  },
  {
   "cell_type": "markdown",
   "id": "3f966743-9e2b-4f12-ae11-4c98818933b6",
   "metadata": {},
   "source": [
    "Que 5)Ans=>"
   ]
  },
  {
   "cell_type": "code",
   "execution_count": 7,
   "id": "97a3b81c-2c02-4f07-b093-1d09fdfdff23",
   "metadata": {},
   "outputs": [
    {
     "name": "stdout",
     "output_type": "stream",
     "text": [
      "[6, 60, 90, 120]\n"
     ]
    }
   ],
   "source": [
    "numbers = [2, 3, 6, 9, 27, 60, 90, 120, 55, 46]\n",
    "\n",
    "filtered_numbers = list(filter(lambda x: x % 2 == 0 and x % 3 == 0, numbers))\n",
    "\n",
    "print(filtered_numbers)\n"
   ]
  },
  {
   "cell_type": "markdown",
   "id": "223d1de3-91f1-496f-b671-828fc5311afd",
   "metadata": {},
   "source": [
    "Que 6)Ans=>"
   ]
  },
  {
   "cell_type": "code",
   "execution_count": null,
   "id": "456cd9be-3c71-48ec-a065-c7bcc047e201",
   "metadata": {},
   "outputs": [],
   "source": []
  }
 ],
 "metadata": {
  "kernelspec": {
   "display_name": "Python 3 (ipykernel)",
   "language": "python",
   "name": "python3"
  },
  "language_info": {
   "codemirror_mode": {
    "name": "ipython",
    "version": 3
   },
   "file_extension": ".py",
   "mimetype": "text/x-python",
   "name": "python",
   "nbconvert_exporter": "python",
   "pygments_lexer": "ipython3",
   "version": "3.10.8"
  }
 },
 "nbformat": 4,
 "nbformat_minor": 5
}
